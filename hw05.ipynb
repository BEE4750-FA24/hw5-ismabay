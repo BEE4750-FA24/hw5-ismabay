{
 "cells": [
  {
   "cell_type": "markdown",
   "id": "f25056fc-44dd-4baa-88ff-b2e879a9d2c4",
   "metadata": {},
   "source": [
    "# BEE 4750 Homework 5: Mixed Integer and Stochastic Programming\n",
    "\n",
    "**Name**: Badyn Milstein-Touesnard, Isabel Camara, Mateo Aranzazu\n",
    "\n",
    "**ID**: 5286287, 5273977, 5355552\n",
    "\n",
    "**netID**: bmm98, ic277, ma956\n",
    "\n",
    "> **Due Date**\n",
    ">\n",
    "> Thursday, 12/05/24, 9:00pm\n",
    "\n",
    "## Overview"
   ]
  },
  {
   "cell_type": "markdown",
   "id": "bdc61f0a-d224-4e85-9d0f-dc78118e17b2",
   "metadata": {},
   "source": [
    "### Instructions\n",
    "\n",
    "-   In Problem 1, you will use mixed integer programming to solve a\n",
    "    waste load allocation problem."
   ]
  },
  {
   "cell_type": "markdown",
   "id": "f28855a0-60d2-442e-b8ef-1ceaee826af6",
   "metadata": {},
   "source": [
    "### Load Environment\n",
    "\n",
    "The following code loads the environment and makes sure all needed\n",
    "packages are installed. This should be at the start of most Julia\n",
    "scripts."
   ]
  },
  {
   "cell_type": "code",
   "execution_count": 1,
   "id": "2",
   "metadata": {},
   "outputs": [
    {
     "name": "stderr",
     "output_type": "stream",
     "text": [
      "\u001b[32m\u001b[1m  Activating\u001b[22m\u001b[39m project at `~/BEE 4750/hw5-ismabay`\n",
      "\u001b[32m\u001b[1m   Installed\u001b[22m\u001b[39m Adapt ────────────── v4.1.1\n",
      "\u001b[32m\u001b[1m   Installed\u001b[22m\u001b[39m StaticArrays ─────── v1.9.8\n",
      "\u001b[32m\u001b[1m   Installed\u001b[22m\u001b[39m GeoInterface ─────── v1.3.8\n",
      "\u001b[32m\u001b[1m   Installed\u001b[22m\u001b[39m ChainRulesCore ───── v1.25.0\n",
      "\u001b[32m\u001b[1m   Installed\u001b[22m\u001b[39m NetworkLayout ────── v0.4.7\n",
      "\u001b[32m\u001b[1m   Installed\u001b[22m\u001b[39m Graphs ───────────── v1.12.0\n",
      "\u001b[32m\u001b[1m   Installed\u001b[22m\u001b[39m MutableArithmetics ─ v1.5.2\n",
      "\u001b[32m\u001b[1m   Installed\u001b[22m\u001b[39m StructArrays ─────── v0.6.20\n",
      "\u001b[32m\u001b[1mPrecompiling\u001b[22m\u001b[39m project...\n",
      "\u001b[32m  ✓ \u001b[39m\u001b[90mAdapt\u001b[39m\n",
      "\u001b[32m  ✓ \u001b[39m\u001b[90mGeoInterface\u001b[39m\n",
      "\u001b[32m  ✓ \u001b[39m\u001b[90mEarCut_jll\u001b[39m\n",
      "\u001b[32m  ✓ \u001b[39m\u001b[90mChainRulesCore\u001b[39m\n",
      "\u001b[32m  ✓ \u001b[39m\u001b[90mChainRulesCore → ChainRulesCoreSparseArraysExt\u001b[39m\n",
      "\u001b[32m  ✓ \u001b[39m\u001b[90mOffsetArrays → OffsetArraysAdaptExt\u001b[39m\n",
      "\u001b[32m  ✓ \u001b[39m\u001b[90mLogExpFunctions → LogExpFunctionsChainRulesCoreExt\u001b[39m\n",
      "\u001b[32m  ✓ \u001b[39m\u001b[90mColorVectorSpace → SpecialFunctionsExt\u001b[39m\n",
      "\u001b[32m  ✓ \u001b[39m\u001b[90mMutableArithmetics\u001b[39m\n",
      "\u001b[32m  ✓ \u001b[39m\u001b[90mColors\u001b[39m\n",
      "\u001b[32m  ✓ \u001b[39m\u001b[90mSpecialFunctions → SpecialFunctionsChainRulesCoreExt\u001b[39m\n",
      "\u001b[32m  ✓ \u001b[39m\u001b[90mStaticArrays\u001b[39m\n",
      "\u001b[32m  ✓ \u001b[39m\u001b[90mAdapt → AdaptStaticArraysExt\u001b[39m\n",
      "\u001b[32m  ✓ \u001b[39m\u001b[90mStaticArrays → StaticArraysStatisticsExt\u001b[39m\n",
      "\u001b[32m  ✓ \u001b[39m\u001b[90mConstructionBase → ConstructionBaseStaticArraysExt\u001b[39m\n",
      "\u001b[32m  ✓ \u001b[39m\u001b[90mForwardDiff → ForwardDiffStaticArraysExt\u001b[39m\n",
      "\u001b[32m  ✓ \u001b[39m\u001b[90mStaticArrays → StaticArraysChainRulesCoreExt\u001b[39m\n",
      "\u001b[32m  ✓ \u001b[39m\u001b[90mStructArrays\u001b[39m\n",
      "\u001b[32m  ✓ \u001b[39m\u001b[90mColorSchemes\u001b[39m\n",
      "\u001b[32m  ✓ \u001b[39m\u001b[90mArnoldiMethod\u001b[39m\n",
      "\u001b[32m  ✓ \u001b[39m\u001b[90mGeometryTypes\u001b[39m\n",
      "\u001b[32m  ✓ \u001b[39m\u001b[90mStructArrays → StructArraysStaticArraysExt\u001b[39m\n",
      "\u001b[32m  ✓ \u001b[39m\u001b[90mStructArrays → StructArraysSparseArraysExt\u001b[39m\n",
      "\u001b[32m  ✓ \u001b[39m\u001b[90mStructArrays → StructArraysAdaptExt\u001b[39m\n",
      "\u001b[32m  ✓ \u001b[39m\u001b[90mInterpolations\u001b[39m\n",
      "\u001b[32m  ✓ \u001b[39m\u001b[90mStructArrays → StructArraysLinearAlgebraExt\u001b[39m\n",
      "\u001b[32m  ✓ \u001b[39m\u001b[90mInterpolations → InterpolationsUnitfulExt\u001b[39m\n",
      "\u001b[32m  ✓ \u001b[39m\u001b[90mGraphs\u001b[39m\n",
      "\u001b[32m  ✓ \u001b[39m\u001b[90mPlotUtils\u001b[39m\n",
      "\u001b[32m  ✓ \u001b[39m\u001b[90mPlotThemes\u001b[39m\n",
      "\u001b[32m  ✓ \u001b[39m\u001b[90mGeometryBasics\u001b[39m\n",
      "\u001b[32m  ✓ \u001b[39m\u001b[90mRecipesPipeline\u001b[39m\n",
      "\u001b[32m  ✓ \u001b[39m\u001b[90mNetworkLayout\u001b[39m\n",
      "\u001b[32m  ✓ \u001b[39m\u001b[90mNetworkLayout → NetworkLayoutGraphsExt\u001b[39m\n",
      "\u001b[32m  ✓ \u001b[39mGraphRecipes\n",
      "\u001b[32m  ✓ \u001b[39mPlots\n",
      "\u001b[32m  ✓ \u001b[39m\u001b[90mMathOptInterface\u001b[39m\n",
      "\u001b[32m  ✓ \u001b[39m\u001b[90mPlots → UnitfulExt\u001b[39m\n",
      "\u001b[32m  ✓ \u001b[39m\u001b[90mPlots → GeometryBasicsExt\u001b[39m\n",
      "\u001b[32m  ✓ \u001b[39mJuMP\n",
      "\u001b[32m  ✓ \u001b[39mHiGHS\n",
      "  41 dependencies successfully precompiled in 64 seconds. 192 already precompiled.\n"
     ]
    }
   ],
   "source": [
    "import Pkg\n",
    "Pkg.activate(@__DIR__)\n",
    "Pkg.instantiate()"
   ]
  },
  {
   "cell_type": "code",
   "execution_count": 2,
   "id": "4",
   "metadata": {},
   "outputs": [],
   "source": [
    "using JuMP\n",
    "using HiGHS\n",
    "using DataFrames\n",
    "using GraphRecipes\n",
    "using Plots\n",
    "using Measures\n",
    "using MarkdownTables"
   ]
  },
  {
   "cell_type": "markdown",
   "id": "7cd4181d-a987-4e3a-8dad-cfdef5fb6270",
   "metadata": {},
   "source": [
    "## Problems (Total: 30 Points)\n",
    "\n",
    "### Problem 1 (30 points)\n",
    "\n",
    "Three cities are developing a coordinated municipal solid waste (MSW)\n",
    "disposal plan. Three disposal alternatives are being considered: a\n",
    "landfill (LF), a materials recycling facility (MRF), and a\n",
    "waste-to-energy facility (WTE). The capacities of these facilities and\n",
    "the fees for operation and disposal are provided below.\n",
    "\n",
    "-   **LF**: Capacity 200 Mg, fixed cost \\$2000/day, tipping cost\n",
    "    \\$50/Mg;\n",
    "-   **MRF**: Capacity 350 Mg, fixed cost \\$1500/day, tipping cost\n",
    "    \\$7/Mg, recycling cost \\$40/Mg recycled;\n",
    "-   **WTE**: Capacity 210 Mg, fixed cost \\$2500/day, tipping cost\n",
    "    \\$60/Mg;\n",
    "\n",
    "The MRF recycling rate is 40%, and the ash fraction of non-recycled\n",
    "waste is 16% and of recycled waste is 14%. Transportation costs are\n",
    "\\$1.5/Mg-km, and the relative distances between the cities and\n",
    "facilities are provided in the table below.\n",
    "\n",
    "| **City/Facility** | **Landfill (km)** | **MRF (km)** | **WTE (km)** |\n",
    "|:-----------------:|:-----------------:|:------------:|:------------:|\n",
    "|         1         |         5         |      30      |      15      |\n",
    "|         2         |        15         |      25      |      10      |\n",
    "|         3         |        13         |      45      |      20      |\n",
    "|        LF         |        \\-         |      32      |      18      |\n",
    "|        MRF        |        32         |      \\-      |      15      |\n",
    "|        WTE        |        18         |      15      |      \\-      |\n",
    "\n",
    "The fixed costs associated with the disposal options are incurred only\n",
    "if the particular disposal option is implemented. The three cities\n",
    "produce 100, 90, and 120 Mg/day of solid waste, respectively, with the\n",
    "composition provided in the table below.\n",
    "\n",
    "**Reminder**: Use `round(x; digits=n)` to report values to the\n",
    "appropriate precision!\n",
    "\n",
    "**In this problem**:\n",
    "\n",
    "-   Formulate the waste load allocation problem and implement it in\n",
    "    `JuMP`.\n",
    "-   Draw a diagram showing the flows of waste between the cities and the\n",
    "    facilities. Which facilities (if any) will not be used? Does this\n",
    "    solution make sense?"
   ]
  },
  {
   "cell_type": "code",
   "execution_count": 3,
   "id": "925d2ac4",
   "metadata": {},
   "outputs": [
    {
     "data": {
      "text/plain": [
       "0.14"
      ]
     },
     "metadata": {},
     "output_type": "display_data"
    }
   ],
   "source": [
    "#defining givens into variables\n",
    "\n",
    "#facility fees and info \n",
    "facility = [\"landfill\", \"MRF\", \"WTE\"]\n",
    "capacity = [200, 350, 210] #units of Mg\n",
    "fixed_cost = [2000, 1500, 2500] #units of $/day\n",
    "tipping_cost = [50,7,60] #units of $/Mg\n",
    "recycling_cost = [0,40,0] #units of $/Mg\n",
    "transport_cost = 1.5 #units of $/Mg\n",
    "\n",
    "#distance breakdown\n",
    "cities = [\"City 1\", \"City 2\", \"City 3\"]\n",
    "city_1_distance = [5,30,15]\n",
    "city_2_distance = [15,25,10]\n",
    "city_3_distance = [13,45,20]\n",
    "LF_distance = [0,32,18]\n",
    "MRF_distance = [32,0,15]\n",
    "WTE_distance = [18,15,0]\n",
    "\n",
    "MRF_recycle = .4\n",
    "ash_fraction = .16\n",
    "reclycing_fraction = .14"
   ]
  },
  {
   "cell_type": "markdown",
   "id": "8a566ce3",
   "metadata": {},
   "source": [
    "Talk about decision variables... \n",
    "\n",
    "\n",
    "The objective of this model is to minimze costs: waste disposal and transportation costs. Costs inlcude fixed cost, tipping fee, recyling cost, and transport costs.\n",
    "\n",
    "LF = 1, MRF = 2, WTE = 3\n",
    "\n",
    "For landfill costs,\n",
    "\n",
    "$2000 * Y_1 + 50 * (W_{1,1} + W_{2,1} + W_{3,1} + R_{2,1}+ R_{3,1})$\n",
    "\n",
    "For MRF costs,\n",
    "\n",
    "$1500 * Y_2 + 7 * (W_{1,2} + W_{2,2} + W_{3,2} + (.4 * 40 * ((W_{1,2} + W_{2,2} + W_{3,2}))))$\n",
    "\n",
    "For Waste to Energy Costs,\n",
    "\n",
    "$2500 * Y_3 + 60*(W_{1,3} + W_{2,3} + W_{3,3}+ R_{2,3})$\n",
    "\n",
    "For transportation costs,\n",
    "\n",
    "$1.5 * [5 * W_{1,1} + 30 * W_{1,2} + 15 * W_{1,3} + 15 * W_{2,1} + 25 * W_{2,2} + 10 * W_{2,3} + 13 * W_{3,1} + 45 * W_{3,2} + 20 * W_{3,3} + 32 * R_{2,1} + 18 * W_{3,1} + 15 * W_{2,3}]$\n",
    "\n",
    "Constraints:\n",
    "\n",
    "$ R_{2,3} + R_{2,1} = [W_{1,1} + W_{2,1} + W_{3,1}]*[1-0.4]$\n",
    "\n",
    "$ R_{3,1} = [W_{1,1} + W_{2,1} + W_{3,1}]*(0.16) + R_{2,3} * (0.14)$\n",
    "\n",
    "$ W_{1,1} + W_{2,1} + W_{3,1} + R_{2,1} + R_{3,1} <= 200$\n",
    "\n",
    "$ W_{1,2} + W_{2,2} + W_{3,2} <= 350$\n",
    "\n",
    "$ W_{1,3} + W_{2,3} + W_{3,3} + R_{2,3} <= 210$\n",
    "\n",
    "If $\\sum_{i\\in I} W_{ij} = 0$\n",
    "\n",
    "$ Y_j = 0 $\n",
    "\n",
    "If $\\sum_{i\\in I} W_{ij} >= 0$\n",
    "\n",
    "$ Y_j = 1 $\n"
   ]
  },
  {
   "cell_type": "code",
   "execution_count": 4,
   "id": "90b21a92",
   "metadata": {},
   "outputs": [
    {
     "ename": "Base.Meta.ParseError",
     "evalue": "ParseError:\n# Error @ /Users/badynmilstein-touesnard/BEE 4750/hw5-ismabay/jl_notebook_cell_df34fa98e69747e1a8f8a730347b8e2f_X15sZmlsZQ==.jl:13:62\n@objective(waste, Min, sum(\n@constraint(waste, commit2, !Y[2] => {W[1,2] + W[2,2] == 0}) \n#                                                            └ ── Expected `)`",
     "output_type": "error",
     "traceback": [
      "ParseError:\n",
      "# Error @ /Users/badynmilstein-touesnard/BEE 4750/hw5-ismabay/jl_notebook_cell_df34fa98e69747e1a8f8a730347b8e2f_X15sZmlsZQ==.jl:13:62\n",
      "@objective(waste, Min, sum(\n",
      "@constraint(waste, commit2, !Y[2] => {W[1,2] + W[2,2] == 0}) \n",
      "#                                                            └ ── Expected `)`\n",
      "\n",
      "Stacktrace:\n",
      " [1] top-level scope\n",
      "   @ ~/BEE 4750/hw5-ismabay/jl_notebook_cell_df34fa98e69747e1a8f8a730347b8e2f_X15sZmlsZQ==.jl:13"
     ]
    }
   ],
   "source": [
    "waste = Model(HiGHS.Optimizer);\n",
    "\n",
    "I = 1:length(cities)\n",
    "J = 1:length(facility)\n",
    "K = 1:3\n",
    "\n",
    "@variable(waste, W[i in I, j in J] >= 0);\n",
    "@variable(waste, R[k in J, j in J] >= 0);\n",
    "@variable(waste, Y[j in J], Bin);\n",
    "\n",
    "\n",
    "@objective(waste, Min, sum(\n",
    "@constraint(waste, commit2, !Y[2] => {W[1,2] + W[2,2] == 0}) "
   ]
  },
  {
   "cell_type": "markdown",
   "id": "b6d659ee-115e-43c3-81d4-56c4aaf92fb7",
   "metadata": {},
   "source": [
    "## References\n",
    "\n",
    "List any external references consulted, including classmates."
   ]
  }
 ],
 "metadata": {
  "kernel_info": {
   "name": "julia"
  },
  "kernelspec": {
   "display_name": "Julia 1.10.4",
   "language": "julia",
   "name": "julia-1.10"
  },
  "language_info": {
   "file_extension": ".jl",
   "mimetype": "application/julia",
   "name": "julia",
   "version": "1.10.4"
  }
 },
 "nbformat": 4,
 "nbformat_minor": 5
}
