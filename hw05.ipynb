{
 "cells": [
  {
   "cell_type": "markdown",
   "id": "f25056fc-44dd-4baa-88ff-b2e879a9d2c4",
   "metadata": {},
   "source": [
    "# BEE 4750 Homework 5: Mixed Integer and Stochastic Programming\n",
    "\n",
    "**Name**: Badyn Milstein-Touesnard, Isabel Camara, Mateo Aranzazu\n",
    "\n",
    "**ID**: 5286287, 5273977, 5355552\n",
    "\n",
    "**netID**: bmm98, ic277, ma956\n",
    "\n",
    "> **Due Date**\n",
    ">\n",
    "> Thursday, 12/05/24, 9:00pm\n",
    "\n",
    "## Overview"
   ]
  },
  {
   "cell_type": "markdown",
   "id": "bdc61f0a-d224-4e85-9d0f-dc78118e17b2",
   "metadata": {},
   "source": [
    "### Instructions\n",
    "\n",
    "-   In Problem 1, you will use mixed integer programming to solve a\n",
    "    waste load allocation problem."
   ]
  },
  {
   "cell_type": "markdown",
   "id": "f28855a0-60d2-442e-b8ef-1ceaee826af6",
   "metadata": {},
   "source": [
    "### Load Environment\n",
    "\n",
    "The following code loads the environment and makes sure all needed\n",
    "packages are installed. This should be at the start of most Julia\n",
    "scripts."
   ]
  },
  {
   "cell_type": "code",
   "execution_count": 1,
   "id": "2",
   "metadata": {},
   "outputs": [
    {
     "name": "stderr",
     "output_type": "stream",
     "text": [
      "\u001b[32m\u001b[1m  Activating\u001b[22m\u001b[39m project at `~/bee4750/homework/hw5-ismabay`\n"
     ]
    }
   ],
   "source": [
    "import Pkg\n",
    "Pkg.activate(@__DIR__)\n",
    "Pkg.instantiate()"
   ]
  },
  {
   "cell_type": "code",
   "execution_count": 2,
   "id": "4",
   "metadata": {},
   "outputs": [],
   "source": [
    "using JuMP\n",
    "using HiGHS\n",
    "using DataFrames\n",
    "using GraphRecipes\n",
    "using Plots\n",
    "using Measures\n",
    "using MarkdownTables"
   ]
  },
  {
   "cell_type": "markdown",
   "id": "7cd4181d-a987-4e3a-8dad-cfdef5fb6270",
   "metadata": {},
   "source": [
    "## Problems (Total: 30 Points)\n",
    "\n",
    "### Problem 1 (30 points)\n",
    "\n",
    "Three cities are developing a coordinated municipal solid waste (MSW)\n",
    "disposal plan. Three disposal alternatives are being considered: a\n",
    "landfill (LF), a materials recycling facility (MRF), and a\n",
    "waste-to-energy facility (WTE). The capacities of these facilities and\n",
    "the fees for operation and disposal are provided below.\n",
    "\n",
    "-   **LF**: Capacity 200 Mg, fixed cost \\$2000/day, tipping cost\n",
    "    \\$50/Mg;\n",
    "-   **MRF**: Capacity 350 Mg, fixed cost \\$1500/day, tipping cost\n",
    "    \\$7/Mg, recycling cost \\$40/Mg recycled;\n",
    "-   **WTE**: Capacity 210 Mg, fixed cost \\$2500/day, tipping cost\n",
    "    \\$60/Mg;\n",
    "\n",
    "The MRF recycling rate is 40%, and the ash fraction of non-recycled\n",
    "waste is 16% and of recycled waste is 14%. Transportation costs are\n",
    "\\$1.5/Mg-km, and the relative distances between the cities and\n",
    "facilities are provided in the table below.\n",
    "\n",
    "| **City/Facility** | **Landfill (km)** | **MRF (km)** | **WTE (km)** |\n",
    "|:-----------------:|:-----------------:|:------------:|:------------:|\n",
    "|         1         |         5         |      30      |      15      |\n",
    "|         2         |        15         |      25      |      10      |\n",
    "|         3         |        13         |      45      |      20      |\n",
    "|        LF         |        \\-         |      32      |      18      |\n",
    "|        MRF        |        32         |      \\-      |      15      |\n",
    "|        WTE        |        18         |      15      |      \\-      |\n",
    "\n",
    "The fixed costs associated with the disposal options are incurred only\n",
    "if the particular disposal option is implemented. The three cities\n",
    "produce 100, 90, and 120 Mg/day of solid waste, respectively, with the\n",
    "composition provided in the table below.\n",
    "\n",
    "**Reminder**: Use `round(x; digits=n)` to report values to the\n",
    "appropriate precision!\n",
    "\n",
    "**In this problem**:\n",
    "\n",
    "-   Formulate the waste load allocation problem and implement it in\n",
    "    `JuMP`.\n",
    "-   Draw a diagram showing the flows of waste between the cities and the\n",
    "    facilities. Which facilities (if any) will not be used? Does this\n",
    "    solution make sense?"
   ]
  },
  {
   "cell_type": "code",
   "execution_count": null,
   "id": "925d2ac4",
   "metadata": {},
   "outputs": [],
   "source": [
    "#defining givens into variables\n",
    "\n",
    "#facility fees and info \n",
    "facility = [\"landfill\", \"MRF\", \"WTE\"]\n",
    "capacity = [200, 350, 210] #units of Mg\n",
    "fixed_cost = [2000, 1500, 2500] #units of $/day\n",
    "tipping_cost = [50,7,60] #units of $/Mg\n",
    "recycling_cost = [0,40,0] #units of $/Mg\n",
    "transport_cost = 1.5 #units of $/Mg\n",
    "\n",
    "#distance breakdown\n",
    "cities = [\"City 1\", \"City 2\", \"City 3\"]\n",
    "city_1_distance = [5,30,15]\n",
    "city_2_distance = [15,25,10]\n",
    "city_3_distance = [13,45,20]\n",
    "LF_distance = [0,32,18]\n",
    "MRF_distance = [32,0,15]\n",
    "WTE_distance = [18,15,0]\n",
    "\n",
    "MRF_recycle = .4\n",
    "ash_fraction = .16\n",
    "reclycing_fraction = .14"
   ]
  },
  {
   "cell_type": "markdown",
   "id": "8a566ce3",
   "metadata": {},
   "source": [
    "Talk about decision variables... \n",
    "\n",
    "\n",
    "The objective of this model is to minimze costs: waste disposal and transportation costs. Costs inlcude fixed cost, tipping fee, recyling cost, and transport costs.\n",
    "\n",
    "For landfill costs,\n",
    "\n",
    "$2000 * Y_1 + 50 * (W_{1,1} + W_{2,1} + W_{3,1}+ R_{2,1}+ R_{3,1})$\n",
    "\n",
    "For MRF costs,\n",
    "\n",
    "$1500 * Y_2 + 7 * (W_{1,2} + W_{2,2} + W_{3,2} + (.4 * 40 * ((W_{1,2} + W_{2,2} + W_{3,2}))$\n",
    "\n",
    "For transportation costs,\n",
    "\n",
    "1.5 * [5 * W_{1,1} + 30 * W_{1,2} + 15 * W_{1,3} + 15 * W_{2,1} + 25 * W_{2,2} + 10 * W_{2,3} + 13 * W_{3,1} + 45 * W_{3,2} + 20 * W_{3,3}] + "
   ]
  },
  {
   "cell_type": "code",
   "execution_count": null,
   "id": "90b21a92",
   "metadata": {},
   "outputs": [],
   "source": [
    "waste = Model(HiGHS.Optimizer);\n",
    "\n",
    "I = 1:length(cities)\n",
    "J = 1:length(facility)\n",
    "K = 1:3\n",
    "\n",
    "@variable(waste, W[i in I, j in J] >= 0);\n",
    "@variable(waste, R[k in J, j in J] >= 0);\n",
    "@variable(waste, Y[j in J], Bin);\n",
    "\n",
    "\n",
    "@objective(waste, Min, sum(\n",
    "@constraint(waste, commit2, !Y[2] => {W[1,2] + W[2,2] == 0}) "
   ]
  },
  {
   "cell_type": "markdown",
   "id": "b6d659ee-115e-43c3-81d4-56c4aaf92fb7",
   "metadata": {},
   "source": [
    "## References\n",
    "\n",
    "List any external references consulted, including classmates."
   ]
  }
 ],
 "metadata": {
  "kernel_info": {
   "name": "julia"
  },
  "kernelspec": {
   "display_name": "Julia 1.10.4",
   "language": "julia",
   "name": "julia-1.10"
  },
  "language_info": {
   "file_extension": ".jl",
   "mimetype": "application/julia",
   "name": "julia",
   "version": "1.10.4"
  }
 },
 "nbformat": 4,
 "nbformat_minor": 5
}
