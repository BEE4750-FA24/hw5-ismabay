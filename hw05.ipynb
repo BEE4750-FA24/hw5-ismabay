{
 "cells": [
  {
   "cell_type": "markdown",
   "id": "f25056fc-44dd-4baa-88ff-b2e879a9d2c4",
   "metadata": {},
   "source": [
    "# BEE 4750 Homework 5: Mixed Integer and Stochastic Programming\n",
    "\n",
    "**Name**: Badyn Milstein-Touesnard, Isabel Camara, Mateo Aranzazu\n",
    "\n",
    "**ID**: 5286287, 5273977, 5355552\n",
    "\n",
    "**netID**: bmm98, ic277, ma956\n",
    "\n",
    "> **Due Date**\n",
    ">\n",
    "> Thursday, 12/05/24, 9:00pm\n",
    "\n",
    "## Overview"
   ]
  },
  {
   "cell_type": "markdown",
   "id": "bdc61f0a-d224-4e85-9d0f-dc78118e17b2",
   "metadata": {},
   "source": [
    "### Instructions\n",
    "\n",
    "-   In Problem 1, you will use mixed integer programming to solve a\n",
    "    waste load allocation problem."
   ]
  },
  {
   "cell_type": "markdown",
   "id": "f28855a0-60d2-442e-b8ef-1ceaee826af6",
   "metadata": {},
   "source": [
    "### Load Environment\n",
    "\n",
    "The following code loads the environment and makes sure all needed\n",
    "packages are installed. This should be at the start of most Julia\n",
    "scripts."
   ]
  },
  {
   "cell_type": "code",
   "execution_count": 2,
   "id": "2",
   "metadata": {},
   "outputs": [
    {
     "name": "stderr",
     "output_type": "stream",
     "text": [
      "\u001b[32m\u001b[1m  Activating\u001b[22m\u001b[39m project at `~/BEE 4750/hw5-ismabay`\n"
     ]
    }
   ],
   "source": [
    "import Pkg\n",
    "Pkg.activate(@__DIR__)\n",
    "Pkg.instantiate()"
   ]
  },
  {
   "cell_type": "code",
   "execution_count": 3,
   "id": "4",
   "metadata": {},
   "outputs": [],
   "source": [
    "using JuMP\n",
    "using HiGHS\n",
    "using DataFrames\n",
    "using GraphRecipes\n",
    "using Plots\n",
    "using Measures\n",
    "using MarkdownTables"
   ]
  },
  {
   "cell_type": "markdown",
   "id": "7cd4181d-a987-4e3a-8dad-cfdef5fb6270",
   "metadata": {},
   "source": [
    "## Problems (Total: 30 Points)\n",
    "\n",
    "### Problem 1 (30 points)\n",
    "\n",
    "Three cities are developing a coordinated municipal solid waste (MSW)\n",
    "disposal plan. Three disposal alternatives are being considered: a\n",
    "landfill (LF), a materials recycling facility (MRF), and a\n",
    "waste-to-energy facility (WTE). The capacities of these facilities and\n",
    "the fees for operation and disposal are provided below.\n",
    "\n",
    "-   **LF**: Capacity 200 Mg, fixed cost \\$2000/day, tipping cost\n",
    "    \\$50/Mg;\n",
    "-   **MRF**: Capacity 350 Mg, fixed cost \\$1500/day, tipping cost\n",
    "    \\$7/Mg, recycling cost \\$40/Mg recycled;\n",
    "-   **WTE**: Capacity 210 Mg, fixed cost \\$2500/day, tipping cost\n",
    "    \\$60/Mg;\n",
    "\n",
    "The MRF recycling rate is 40%, and the ash fraction of non-recycled\n",
    "waste is 16% and of recycled waste is 14%. Transportation costs are\n",
    "\\$1.5/Mg-km, and the relative distances between the cities and\n",
    "facilities are provided in the table below.\n",
    "\n",
    "| **City/Facility** | **Landfill (km)** | **MRF (km)** | **WTE (km)** |\n",
    "|:-----------------:|:-----------------:|:------------:|:------------:|\n",
    "|         1         |         5         |      30      |      15      |\n",
    "|         2         |        15         |      25      |      10      |\n",
    "|         3         |        13         |      45      |      20      |\n",
    "|        LF         |        \\-         |      32      |      18      |\n",
    "|        MRF        |        32         |      \\-      |      15      |\n",
    "|        WTE        |        18         |      15      |      \\-      |\n",
    "\n",
    "The fixed costs associated with the disposal options are incurred only\n",
    "if the particular disposal option is implemented. The three cities\n",
    "produce 100, 90, and 120 Mg/day of solid waste, respectively, with the\n",
    "composition provided in the table below.\n",
    "\n",
    "**Reminder**: Use `round(x; digits=n)` to report values to the\n",
    "appropriate precision!\n",
    "\n",
    "**In this problem**:\n",
    "\n",
    "-   Formulate the waste load allocation problem and implement it in\n",
    "    `JuMP`.\n",
    "-   Draw a diagram showing the flows of waste between the cities and the\n",
    "    facilities. Which facilities (if any) will not be used? Does this\n",
    "    solution make sense?"
   ]
  },
  {
   "cell_type": "markdown",
   "id": "8a566ce3",
   "metadata": {},
   "source": [
    "### Decision Variables\n",
    "\n",
    "The decision variables in this waste management problem are $W_{i,j}$, $R_{k,j}$, and $Y_j$, where $W_{i,j}$ is the waste transported from city $i$ to disposal $j$ in Mg/day, $R_{k,j}$ is the residual waste transported from disposal $k$ to disposal $j$ in Mg/day, and $Y_j$ is the operational status of disposal $j$ (binary variable).\n",
    "\n",
    " ### Objective\n",
    "\n",
    "The objective of this model is to minimze costs: waste disposal and transportation costs. Costs inlcude fixed cost, tipping fee, recyling cost, and transport costs.\n",
    "\n",
    "LF = 1, MRF = 2, WTE = 3\n",
    "\n",
    "**For landfill costs:**\n",
    "\n",
    "$2000 * Y_1 + 50 * (W_{1,1} + W_{2,1} + W_{3,1} + R_{2,1}+ R_{3,1})$\n",
    "\n",
    "**For MRF costs:**\n",
    "\n",
    "$1500 * Y_2 + 7 * (W_{1,2} + W_{2,2} + W_{3,2} + (.4 * 40 * ((W_{1,2} + W_{2,2} + W_{3,2}))))$\n",
    "\n",
    "**For Waste to Energy costs:**\n",
    "\n",
    "$2500 * Y_3 + 60*(W_{1,3} + W_{2,3} + W_{3,3}+ R_{2,3})$\n",
    "\n",
    "**For transportation costs:**\n",
    "\n",
    "$1.5 * [5 * W_{1,1} + 30 * W_{1,2} + 15 * W_{1,3} + 15 * W_{2,1} + 25 * W_{2,2} + 10 * W_{2,3} + 13 * W_{3,1} + 45 * W_{3,2} + 20 * W_{3,3} + 32 * R_{2,1} + 18 * W_{3,1} + 15 * W_{2,3}]$\n",
    "\n",
    "**Final Objective**\n",
    "\n",
    "Combining the transportation and disposal costs and simplifying:\n",
    "\n",
    "$min_{W,R,Y} = 57.5W_{1,1} + 72.5W_{2,1} + 69.5W_{3,1} + 68W_{1,2} + 60.5W_{2,2} + 90.5W_{3,2} + 82.5W_{1,3} + 75W_{2,3} + 90W_{3,3} + 82R_{2,1} + 50R_{3,1} + 60R_{2,3} + 2000Y_1 + 1500Y_2 + 2500Y_3$\n",
    "\n",
    "**Constraints:**\n",
    "\n",
    "Disposal Production Constraint:\n",
    "\n",
    "$ W_{1,1} + W_{1,2} + W_{1,3} = 100$\n",
    "\n",
    "$ W_{2,1} + W_{2,2} + W_{2,3} = 90$\n",
    "\n",
    "$ W_{3,1} + W_{3,2} + W_{3,3} = 120$\n",
    "\n",
    "Non-recycled waste that entered MRF must equal waste from MRF:\n",
    "\n",
    "$ R_{2,3} + R_{2,1} = [W_{1,2} + W_{2,2} + W_{3,2}]*[1-0.4]$\n",
    "\n",
    "Waste from WTE must equal ash produced:\n",
    "\n",
    "$ R_{3,1} = [W_{1,1} + W_{2,1} + W_{3,1}]*(0.16) + R_{2,3} * (0.14)$\n",
    "\n",
    "Disposal Facility Capacity Constraint:\n",
    "\n",
    "$ W_{1,1} + W_{2,1} + W_{3,1} + R_{2,1} + R_{3,1} <= 200$\n",
    "\n",
    "$ W_{1,2} + W_{2,2} + W_{3,2} <= 350$\n",
    "\n",
    "$ W_{1,3} + W_{2,3} + W_{3,3} + R_{2,3} <= 210$\n",
    "\n",
    "Ensure Operational Status is Binary Variable Constraint: \n",
    "\n",
    "If $\\sum_{i\\in I} W_{ij} = 0$\n",
    "\n",
    "$ Y_j = 0 $\n",
    "\n",
    "If $\\sum_{i\\in I} W_{ij} >= 0$\n",
    "\n",
    "$ Y_j = 1 $\n"
   ]
  },
  {
   "cell_type": "code",
   "execution_count": null,
   "id": "925d2ac4",
   "metadata": {},
   "outputs": [
    {
     "name": "stdout",
     "output_type": "stream",
     "text": [
      "Dw[2, 1] = 30\n"
     ]
    },
    {
     "data": {
      "text/plain": [
       "30"
      ]
     },
     "metadata": {},
     "output_type": "display_data"
    }
   ],
   "source": [
    "#defining givens into variables\n",
    "\n",
    "#facility fees and info \n",
    "facility = [\"landfill\", \"MRF\", \"WTE\"]\n",
    "max = [200, 350, 210] #units of Mg\n",
    "Cf = [2000, 1500, 2500] #units of $/day - fixed cost\n",
    "Ctip = [50,7,60] #units of $/Mg tipping cost\n",
    "Cr = [0,40,0] #units of $/Mg recycling cost\n",
    "Ct = 1.5 #units of $/mg-km transpot cost\n",
    "\n",
    "#distance breakdown\n",
    "cities = [\"City 1\", \"City 2\", \"City 3\"]\n",
    "distance = \n",
    "city_1_distance = [5,30,15]\n",
    "city_2_distance = [15,25,10]\n",
    "city_3_distance = [13,45,20]\n",
    "LF_distance = [0,32,18]\n",
    "MRF_distance = [32,0,15]\n",
    "WTE_distance = [18,15,0]\n",
    "\n",
    "Dw = [[5, 30, 5];; [15,25,10];; [13,45,20]]  # waste distance to city\n",
    "Dr = [[0,32,18];; [32,0,15];; [18,15,0]]     # dist between waste centers\n",
    "\n",
    "MRF_recycle = .4\n",
    "ash_fraction = .16\n",
    "reclycing_fraction = .14\n",
    "\n",
    "@show Dw[2,1]"
   ]
  },
  {
   "cell_type": "code",
   "execution_count": null,
   "id": "48cdeb35",
   "metadata": {},
   "outputs": [
    {
     "data": {
      "text/latex": [
       "$$ W_{1,3} + W_{2,3} + W_{3,3} + R_{2,3} \\leq 210 $$"
      ],
      "text/plain": [
       "WTE : W[1,3] + W[2,3] + W[3,3] + R[2,3] ≤ 210"
      ]
     },
     "metadata": {},
     "output_type": "display_data"
    }
   ],
   "source": [
    "waste_model = Model(HiGHS.Optimizer);\n",
    "\n",
    "I = 1:length(cities)\n",
    "J = 1:length(facility)\n",
    "K = 1:3\n",
    "\n",
    "@variable(waste_model, W[i in I, j in J] >= 0) # non-negativity constraints for 9 variables\n",
    "@variable(waste_model, R[k in J, j in J] >= 0) # R21, R23, R31\n",
    "@variable(waste_model, Y[j in J], Bin) # operational status\n",
    "\n",
    "@objective(waste_model, Min, sum([57.5 68 82.5; 72.5 60.5 75; 69.5 90.5 90] .*W)+sum([0 0 0; 82 0 60; 50 0 0] .*R)+sum([2000, 1500, 2500] .*Y))\n",
    "\n",
    "@constraint(waste_model, city_1, W[1,1]+ W[1,2] + W[1,3] == 100)\n",
    "@constraint(waste_model, city_2, W[2,1]+ W[2,2] + W[2,3] == 90)\n",
    "@constraint(waste_model, city_3, W[3,1]+ W[3,2] + W[3,3] == 120)\n",
    "\n",
    "@constraint(waste_model, residual_1, R[2,3]+ R[2,1] == .6 .* (W[1,2]+ W[2,2] + W[3,2]))\n",
    "@constraint(waste_model, residual_2, R[3,1] == (.16 .* W[1,1]+ W[2,1] + W[3,1]) + (.14 .* R[2,3]))\n",
    "\n",
    "@constraint(waste_model, LF, W[1,1]+ W[2,1] + W[3,1] + R[2,1]+R[3,1] <= 200)\n",
    "@constraint(waste_model, MRF, W[1,2]+ W[2,2] + W[3,2] <= 350)\n",
    "@constraint(waste_model, WTE, W[1,3]+ W[2,3] + W[3,3] + R[2,3] <= 210)\n",
    "\n",
    "@constraint(waste_model, binary1, !Y[3] => {W[1,1] + W[1,2] + W[1,3] + R[2,1] + R[3,1] == 0})\n",
    "@constraint(waste_model, binary2, !Y[2] => {W[2,1] + W[2,2] + W[2,3] == 0})\n",
    "@constraint(waste_model, binary2, Y[1] == 1)"
   ]
  },
  {
   "cell_type": "code",
   "execution_count": 8,
   "id": "90b21a92",
   "metadata": {},
   "outputs": [
    {
     "ename": "ErrorException",
     "evalue": "The objective function `Base.Generator{UnitRange{Int64}, var\"#43#45\"}(var\"#43#45\"(), 1:3)` is not supported by JuMP.",
     "output_type": "error",
     "traceback": [
      "The objective function `Base.Generator{UnitRange{Int64}, var\"#43#45\"}(var\"#43#45\"(), 1:3)` is not supported by JuMP.\n",
      "\n",
      "Stacktrace:\n",
      " [1] error(s::String)\n",
      "   @ Base ./error.jl:35\n",
      " [2] set_objective_function(model::Model, func::Base.Generator{UnitRange{Int64}, var\"#43#45\"})\n",
      "   @ JuMP ~/.julia/packages/JuMP/FEKLB/src/objective.jl:301\n",
      " [3] set_objective(model::Model, sense::MathOptInterface.OptimizationSense, func::Base.Generator{UnitRange{Int64}, var\"#43#45\"})\n",
      "   @ JuMP ~/.julia/packages/JuMP/FEKLB/src/objective.jl:326\n",
      " [4] macro expansion\n",
      "   @ ~/.julia/packages/JuMP/FEKLB/src/macros/@objective.jl:70 [inlined]\n",
      " [5] top-level scope\n",
      "   @ ~/BEE 4750/hw5-ismabay/jl_notebook_cell_df34fa98e69747e1a8f8a730347b8e2f_X22sZmlsZQ==.jl:13"
     ]
    }
   ],
   "source": [
    "waste_model = Model(HiGHS.Optimizer);\n",
    "\n",
    "\n",
    "# @variable(waste_model, W[1:3, 1:3] >= 0) # non-negativity constraints for 9 variables\n",
    "# @variable(waste_model, R[1:3, 1:3] >= 0) # R21, R23, R31\n",
    "# @variable(waste_model, Y[1:3], Bin) # operational status\n",
    "\n",
    "@variable(waste_model, W[i in I, j in J] >= 0) # non-negativity constraints for 9 variables\n",
    "@variable(waste_model, R[k in J, j in J] >= 0) # R21, R23, R31\n",
    "@variable(waste_model, Y[j in J], Bin) # operational status\n",
    "\n",
    "\n",
    "@objective(waste_model, Min, ((sum(W[f,c]*Ctip[f] + W[f,c]*Cr[f] + W[f,c]*Dw[f,c] + R[f,c]*Dr[f,c] for c=1:3)) for f=1:3))\n",
    "\n",
    "\n",
    "@constraint(waste_model, city_1, (sum(W[j,1] for j=1:3)) == 100)\n",
    "@constraint(waste_model, city_2, (sum(W[j,2] for j=1:3)) == 90)\n",
    "@constraint(waste_model, city_3, (sum(W[j,3] for j=1:3)) == 120)\n",
    "\n",
    "@constraint(waste_model, LF_tot,  (sum(W[1,j] for j=1:3)) <= max[1])\n",
    "@constraint(waste_model, MRF_tot, (sum(W[2,j] for j=1:3)) <= max[2])\n",
    "@constraint(waste_model, WTE_tot, (sum(W[3,j] for j=1:3)) <= max[3])\n",
    "\n",
    "@constraint(waste_model, Refuse, (sum(W[3,j] for j=1:3))*0.6 = R[1] + R[3])\n",
    "@constraint(waste_model, Secondary_refuse, (sum(W[3,j] for j=1:3))*1.6 + R[2]*1.4 = R[3])\n",
    "\n",
    "# @constraint(waste_model, binary_off, (sum(W[3,j] for j=1:3)) <= max[3])\n",
    "# @constraint(waste_model, binary_on,  (sum(W[3,j] for j=1:3)) <= max[3])\n",
    "\n",
    "@constraint(waste_model, binary1, !Y[3] => {W[1,1] + W[1,2] + W[1,3] + R[2,1] + R[3,1] == 0})\n",
    "@constraint(waste_model, binary2, !Y[2] => {W[2,1] + W[2,2] + W[2,3] == 0})\n",
    "@constraint(waste_model, binary2, Y[1] == 1)\n",
    "\n",
    "#  {W[3,1] + W[3,2] + W[3,3] +  == 0}\n",
    "\n",
    "\n"
   ]
  },
  {
   "cell_type": "markdown",
   "id": "b6d659ee-115e-43c3-81d4-56c4aaf92fb7",
   "metadata": {},
   "source": [
    "## References\n",
    "\n",
    "List any external references consulted, including classmates."
   ]
  }
 ],
 "metadata": {
  "kernel_info": {
   "name": "julia"
  },
  "kernelspec": {
   "display_name": "Julia 1.10.4",
   "language": "julia",
   "name": "julia-1.10"
  },
  "language_info": {
   "file_extension": ".jl",
   "mimetype": "application/julia",
   "name": "julia",
   "version": "1.10.4"
  }
 },
 "nbformat": 4,
 "nbformat_minor": 5
}
