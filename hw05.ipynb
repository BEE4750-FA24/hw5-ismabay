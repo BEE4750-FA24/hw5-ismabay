{
 "cells": [
  {
   "cell_type": "markdown",
   "id": "f25056fc-44dd-4baa-88ff-b2e879a9d2c4",
   "metadata": {},
   "source": [
    "# BEE 4750 Homework 5: Mixed Integer and Stochastic Programming\n",
    "\n",
    "**Name**: Badyn Milstein-Touesnard, Isabel Camara, Mateo Aranzazu\n",
    "\n",
    "**ID**: 5286287, 5273977, 5355552\n",
    "\n",
    "**netID**: bmm98, ic277, ma956\n",
    "\n",
    "> **Due Date**\n",
    ">\n",
    "> Thursday, 12/05/24, 9:00pm\n",
    "\n",
    "## Overview"
   ]
  },
  {
   "cell_type": "markdown",
   "id": "bdc61f0a-d224-4e85-9d0f-dc78118e17b2",
   "metadata": {},
   "source": [
    "### Instructions\n",
    "\n",
    "-   In Problem 1, you will use mixed integer programming to solve a\n",
    "    waste load allocation problem."
   ]
  },
  {
   "cell_type": "markdown",
   "id": "f28855a0-60d2-442e-b8ef-1ceaee826af6",
   "metadata": {},
   "source": [
    "### Load Environment\n",
    "\n",
    "The following code loads the environment and makes sure all needed\n",
    "packages are installed. This should be at the start of most Julia\n",
    "scripts."
   ]
  },
  {
   "cell_type": "code",
   "execution_count": 3,
   "id": "2",
   "metadata": {},
   "outputs": [
    {
     "name": "stderr",
     "output_type": "stream",
     "text": [
      "\u001b[32m\u001b[1m  Activating\u001b[22m\u001b[39m project at `~/BEE 4750/hw5-ismabay`\n"
     ]
    }
   ],
   "source": [
    "import Pkg\n",
    "Pkg.activate(@__DIR__)\n",
    "Pkg.instantiate()"
   ]
  },
  {
   "cell_type": "code",
   "execution_count": 4,
   "id": "4",
   "metadata": {},
   "outputs": [],
   "source": [
    "using JuMP\n",
    "using HiGHS\n",
    "using DataFrames\n",
    "using GraphRecipes\n",
    "using Plots\n",
    "using Measures\n",
    "using MarkdownTables"
   ]
  },
  {
   "cell_type": "markdown",
   "id": "7cd4181d-a987-4e3a-8dad-cfdef5fb6270",
   "metadata": {},
   "source": [
    "## Problems (Total: 30 Points)\n",
    "\n",
    "### Problem 1 (30 points)\n",
    "\n",
    "Three cities are developing a coordinated municipal solid waste (MSW)\n",
    "disposal plan. Three disposal alternatives are being considered: a\n",
    "landfill (LF), a materials recycling facility (MRF), and a\n",
    "waste-to-energy facility (WTE). The capacities of these facilities and\n",
    "the fees for operation and disposal are provided below.\n",
    "\n",
    "-   **LF**: Capacity 200 Mg, fixed cost \\$2000/day, tipping cost\n",
    "    \\$50/Mg;\n",
    "-   **MRF**: Capacity 350 Mg, fixed cost \\$1500/day, tipping cost\n",
    "    \\$7/Mg, recycling cost \\$40/Mg recycled;\n",
    "-   **WTE**: Capacity 210 Mg, fixed cost \\$2500/day, tipping cost\n",
    "    \\$60/Mg;\n",
    "\n",
    "The MRF recycling rate is 40%, and the ash fraction of non-recycled\n",
    "waste is 16% and of recycled waste is 14%. Transportation costs are\n",
    "\\$1.5/Mg-km, and the relative distances between the cities and\n",
    "facilities are provided in the table below.\n",
    "\n",
    "| **City/Facility** | **Landfill (km)** | **MRF (km)** | **WTE (km)** |\n",
    "|:-----------------:|:-----------------:|:------------:|:------------:|\n",
    "|         1         |         5         |      30      |      15      |\n",
    "|         2         |        15         |      25      |      10      |\n",
    "|         3         |        13         |      45      |      20      |\n",
    "|        LF         |        \\-         |      32      |      18      |\n",
    "|        MRF        |        32         |      \\-      |      15      |\n",
    "|        WTE        |        18         |      15      |      \\-      |\n",
    "\n",
    "The fixed costs associated with the disposal options are incurred only\n",
    "if the particular disposal option is implemented. The three cities\n",
    "produce 100, 90, and 120 Mg/day of solid waste, respectively, with the\n",
    "composition provided in the table below.\n",
    "\n",
    "**Reminder**: Use `round(x; digits=n)` to report values to the\n",
    "appropriate precision!\n",
    "\n",
    "**In this problem**:\n",
    "\n",
    "-   Formulate the waste load allocation problem and implement it in\n",
    "    `JuMP`.\n",
    "-   Draw a diagram showing the flows of waste between the cities and the\n",
    "    facilities. Which facilities (if any) will not be used? Does this\n",
    "    solution make sense?"
   ]
  },
  {
   "cell_type": "markdown",
   "id": "8a566ce3",
   "metadata": {},
   "source": [
    "### Decision Variables\n",
    "\n",
    "The decision variables in this waste management problem are $W_{i,j}$, $R_{k,j}$, and $Y_j$, where $W_{i,j}$ is the waste transported from city $i$ to disposal $j$ in Mg/day, $R_{k,j}$ is the residual waste transported from disposal $k$ to disposal $j$ in Mg/day, and $Y_j$ is the operational status of disposal $j$ (binary variable).\n",
    "\n",
    " ### Objective\n",
    "\n",
    "The objective of this model is to minimze costs: waste disposal and transportation costs. Costs inlcude fixed cost, tipping fee, recyling cost, and transport costs.\n",
    "\n",
    "LF = 1, MRF = 2, WTE = 3\n",
    "\n",
    "**For landfill costs:**\n",
    "\n",
    "$2000 * Y_1 + 50 * (W_{1,1} + W_{2,1} + W_{3,1} + R_{2,1}+ R_{3,1})$\n",
    "\n",
    "**For MRF costs:**\n",
    "\n",
    "$1500 * Y_2 + 7 * (W_{1,2} + W_{2,2} + W_{3,2} + (.4 * 40 * ((W_{1,2} + W_{2,2} + W_{3,2}))))$\n",
    "\n",
    "**For Waste to Energy costs:**\n",
    "\n",
    "$2500 * Y_3 + 60*(W_{1,3} + W_{2,3} + W_{3,3}+ R_{2,3})$\n",
    "\n",
    "**For transportation costs:**\n",
    "\n",
    "$1.5 * [5 * W_{1,1} + 30 * W_{1,2} + 15 * W_{1,3} + 15 * W_{2,1} + 25 * W_{2,2} + 10 * W_{2,3} + 13 * W_{3,1} + 45 * W_{3,2} + 20 * W_{3,3} + 32 * R_{2,1} + 18 * W_{3,1} + 15 * W_{2,3}]$\n",
    "\n",
    "**Final Objective**\n",
    "\n",
    "Combining the transportation and disposal costs and simplifying:\n",
    "\n",
    "$min_{W,R,Y} = 57.5W_{1,1} + 72.5W_{2,1} + 69.5W_{3,1} + 68W_{1,2} + 60.5W_{2,2} + 90.5W_{3,2} + 82.5W_{1,3} + 75W_{2,3} + 90W_{3,3} + 82R_{2,1} + 50R_{3,1} + 60R_{2,3} + 2000Y_1 + 1500Y_2 + 2500Y_3$\n",
    "\n",
    "**Constraints:**\n",
    "\n",
    "Disposal Production Constraint:\n",
    "\n",
    "$ W_{1,1} + W_{1,2} + W_{1,3} = 100$\n",
    "\n",
    "$ W_{2,1} + W_{2,2} + W_{2,3} = 90$\n",
    "\n",
    "$ W_{3,1} + W_{3,2} + W_{3,3} = 120$\n",
    "\n",
    "Non-recycled waste that entered MRF must equal waste from MRF:\n",
    "\n",
    "$ R_{2,3} + R_{2,1} = [W_{1,2} + W_{2,2} + W_{3,2}]*[1-0.4]$\n",
    "\n",
    "Waste from WTE must equal ash produced:\n",
    "\n",
    "$ R_{3,1} = [W_{1,1} + W_{2,1} + W_{3,1}]*(0.16) + R_{2,3} * (0.14)$\n",
    "\n",
    "Disposal Facility Capacity Constraint:\n",
    "\n",
    "$ W_{1,1} + W_{2,1} + W_{3,1} + R_{2,1} + R_{3,1} <= 200$\n",
    "\n",
    "$ W_{1,2} + W_{2,2} + W_{3,2} <= 350$\n",
    "\n",
    "$ W_{1,3} + W_{2,3} + W_{3,3} + R_{2,3} <= 210$\n",
    "\n",
    "Ensure Operational Status is Binary Variable Constraint: \n",
    "\n",
    "If $\\sum_{i\\in I} W_{ij} = 0$\n",
    "\n",
    "$ Y_j = 0 $\n",
    "\n",
    "If $\\sum_{i\\in I} W_{ij} >= 0$\n",
    "\n",
    "$ Y_j = 1 $\n"
   ]
  },
  {
   "cell_type": "code",
   "execution_count": null,
   "id": "925d2ac4",
   "metadata": {},
   "outputs": [
    {
     "name": "stdout",
     "output_type": "stream",
     "text": [
      "Dw[2, 1] = 15\n"
     ]
    },
    {
     "data": {
      "text/plain": [
       "15"
      ]
     },
     "metadata": {},
     "output_type": "display_data"
    }
   ],
   "source": [
    "#defining givens into variables\n",
    "\n",
    "\n",
    "#facility fees and info \n",
    "facility = [\"landfill\", \"MRF\", \"WTE\"]\n",
    "max = [200, 350, 210] #units of Mg\n",
    "Cf = [2000, 1500, 2500] #units of $/day - fixed cost\n",
    "Ctip = [50,7,60] #units of $/Mg tipping cost\n",
    "Cr = [0,40,0] #units of $/Mg recycling cost\n",
    "Ct = 1.5 #units of $/mg-km transpot cost\n",
    "\n",
    "#distance breakdown\n",
    "cities = [\"City 1\", \"City 2\", \"City 3\"]\n",
    "distance = \n",
    "city_1_distance = [5,30,15]\n",
    "city_2_distance = [15,25,10]\n",
    "city_3_distance = [13,45,20]\n",
    "LF_distance = [0,32,18]\n",
    "MRF_distance = [32,0,15]\n",
    "WTE_distance = [18,15,0]\n",
    "\n",
    "#[[5, 30, 5];; [15,25,10];; [13,45,20]]\n",
    "Dw = [[5, 15, 13];; [30, 25, 45];; [15, 10, 20]]\n",
    "# waste distance to city\n",
    "Dr = [[0,32,18];; [32,0,15];; [18,15,0]]     # dist between waste centers\n",
    "\n",
    "MRF_recycle = .4\n",
    "ash_fraction = .16\n",
    "reclycing_fraction = .14\n",
    "\n",
    "@show Dw[2,1]"
   ]
  },
  {
   "cell_type": "code",
   "execution_count": null,
   "id": "48cdeb35",
   "metadata": {},
   "outputs": [
    {
     "data": {
      "text/latex": [
       "$$ Y_{1} = 1 $$"
      ],
      "text/plain": [
       "binary3 : Y[1] = 1"
      ]
     },
     "metadata": {},
     "output_type": "display_data"
    }
   ],
   "source": [
    "waste_model = Model(HiGHS.Optimizer);\n",
    "\n",
    "I = 1:length(cities)\n",
    "J = 1:length(facility)\n",
    "K = 1:3\n",
    "\n",
    "@variable(waste_model, W[i in I, j in J] >= 0) # non-negativity constraints for 9 variables\n",
    "@variable(waste_model, R[k in J, j in J] >= 0) # R21, R23, R31\n",
    "@variable(waste_model, Y[j in J], Bin) # operational status\n",
    "\n",
    "@objective(waste_model, Min, sum([57.5 68 82.5; 72.5 60.5 75; 69.5 90.5 90] .*W)+sum([0 0 0; 82 0 60; 50 0 0] .*R)+sum([2000, 1500, 2500] .*Y))\n",
    "#@objective(waste_model, Min, sum([57.5 72.5 69.5; 68 60.5 90.5; 82.5 75 90] .*W)+sum([0 0 0; 82 0 60; 50 0 0] .*R)+sum([2000, 1500, 2500] .*Y))\n",
    "\n",
    "\n",
    "@constraint(waste_model, city_1, W[1,1]+ W[1,2] + W[1,3] == 100)\n",
    "@constraint(waste_model, city_2, W[2,1]+ W[2,2] + W[2,3] == 90)\n",
    "@constraint(waste_model, city_3, W[3,1]+ W[3,2] + W[3,3] == 120)\n",
    "\n",
    "@constraint(waste_model, residual_1, R[2,3]+ R[2,1] == .6 .* (W[1,2]+ W[2,2] + W[3,2]))\n",
    "@constraint(waste_model, residual_2, R[3,1] == (.16 .* W[1,1]+ W[2,1] + W[3,1]) + (.14 .* R[2,3]))\n",
    "\n",
    "@constraint(waste_model, LF, W[1,1]+ W[2,1] + W[3,1] + R[2,1]+R[3,1] <= 200)\n",
    "@constraint(waste_model, MRF, W[1,2]+ W[2,2] + W[3,2] <= 350)\n",
    "@constraint(waste_model, WTE, W[1,3]+ W[2,3] + W[3,3] + R[2,3] <= 210)\n",
    "\n",
    "@constraint(waste_model, binary1, !Y[3] => {W[1,1] + W[1,2] + W[1,3] + R[2,1] + R[3,1] == 0})\n",
    "@constraint(waste_model, binary2, !Y[2] => {W[2,1] + W[2,2] + W[2,3] == 0})\n",
    "@constraint(waste_model, binary3, Y[1] == 1)"
   ]
  },
  {
   "cell_type": "code",
   "execution_count": 25,
   "id": "7963ac5c",
   "metadata": {},
   "outputs": [
    {
     "name": "stdout",
     "output_type": "stream",
     "text": [
      "Running HiGHS 1.8.1 (git hash: 4a7f24ac6): Copyright (c) 2024 HiGHS under MIT licence terms\n"
     ]
    },
    {
     "ename": "ErrorException",
     "evalue": "Unable to use IndicatorToMILPBridge because element 2 in the function has a non-finite domain: 0.0 + 1.0 MOI.VariableIndex(1) + 1.0 MOI.VariableIndex(4) + 1.0 MOI.VariableIndex(7) + 1.0 MOI.VariableIndex(11) + 1.0 MOI.VariableIndex(12)",
     "output_type": "error",
     "traceback": [
      "Unable to use IndicatorToMILPBridge because element 2 in the function has a non-finite domain: 0.0 + 1.0 MOI.VariableIndex(1) + 1.0 MOI.VariableIndex(4) + 1.0 MOI.VariableIndex(7) + 1.0 MOI.VariableIndex(11) + 1.0 MOI.VariableIndex(12)\n",
      "\n",
      "Stacktrace:\n",
      "  [1] error(s::String)\n",
      "    @ Base ./error.jl:35\n",
      "  [2] final_touch(bridge::MathOptInterface.Bridges.Constraint.IndicatorToMILPBridge{Float64, MathOptInterface.VectorAffineFunction{Float64}, MathOptInterface.ACTIVATE_ON_ZERO, MathOptInterface.EqualTo{Float64}}, model::MathOptInterface.Bridges.LazyBridgeOptimizer{HiGHS.Optimizer})\n",
      "    @ MathOptInterface.Bridges.Constraint ~/.julia/packages/MathOptInterface/gLl4d/src/Bridges/Constraint/bridges/indicator_to_milp.jl:200\n",
      "  [3] _final_touch(bridges::OrderedCollections.OrderedSet{MathOptInterface.Bridges.Constraint.IndicatorToMILPBridge{Float64, MathOptInterface.VectorAffineFunction{Float64}, MathOptInterface.ACTIVATE_ON_ZERO, MathOptInterface.EqualTo{Float64}}}, model::MathOptInterface.Bridges.LazyBridgeOptimizer{HiGHS.Optimizer})\n",
      "    @ MathOptInterface.Bridges.Constraint ~/.julia/packages/MathOptInterface/gLl4d/src/Bridges/Constraint/map.jl:340\n",
      "  [4] final_touch(map::MathOptInterface.Bridges.Constraint.Map, model::MathOptInterface.Bridges.LazyBridgeOptimizer{HiGHS.Optimizer})\n",
      "    @ MathOptInterface.Bridges.Constraint ~/.julia/packages/MathOptInterface/gLl4d/src/Bridges/Constraint/map.jl:347\n",
      "  [5] final_touch\n",
      "    @ ~/.julia/packages/MathOptInterface/gLl4d/src/Bridges/bridge_optimizer.jl:450 [inlined]\n",
      "  [6] final_touch\n",
      "    @ ~/.julia/packages/MathOptInterface/gLl4d/src/Bridges/bridge_optimizer.jl:455 [inlined]\n",
      "  [7] default_copy_to(dest::MathOptInterface.Bridges.LazyBridgeOptimizer{HiGHS.Optimizer}, src::MathOptInterface.Utilities.UniversalFallback{MathOptInterface.Utilities.Model{Float64}})\n",
      "    @ MathOptInterface.Utilities ~/.julia/packages/MathOptInterface/gLl4d/src/Utilities/copy.jl:394\n",
      "  [8] copy_to\n",
      "    @ ~/.julia/packages/MathOptInterface/gLl4d/src/Bridges/bridge_optimizer.jl:442 [inlined]\n",
      "  [9] optimize!\n",
      "    @ ~/.julia/packages/MathOptInterface/gLl4d/src/MathOptInterface.jl:121 [inlined]\n",
      " [10] optimize!(m::MathOptInterface.Utilities.CachingOptimizer{MathOptInterface.Bridges.LazyBridgeOptimizer{HiGHS.Optimizer}, MathOptInterface.Utilities.UniversalFallback{MathOptInterface.Utilities.Model{Float64}}})\n",
      "    @ MathOptInterface.Utilities ~/.julia/packages/MathOptInterface/gLl4d/src/Utilities/cachingoptimizer.jl:321\n",
      " [11] optimize!(model::Model; ignore_optimize_hook::Bool, _differentiation_backend::MathOptInterface.Nonlinear.SparseReverseMode, kwargs::@Kwargs{})\n",
      "    @ JuMP ~/.julia/packages/JuMP/FEKLB/src/optimizer_interface.jl:595\n",
      " [12] optimize!(model::Model)\n",
      "    @ JuMP ~/.julia/packages/JuMP/FEKLB/src/optimizer_interface.jl:546\n",
      " [13] top-level scope\n",
      "    @ ~/BEE 4750/hw5-ismabay/jl_notebook_cell_df34fa98e69747e1a8f8a730347b8e2f_X15sZmlsZQ==.jl:1"
     ]
    }
   ],
   "source": [
    "optimize!(waste_model)\n"
   ]
  },
  {
   "cell_type": "code",
   "execution_count": 20,
   "id": "90b21a92",
   "metadata": {},
   "outputs": [
    {
     "data": {
      "text/latex": [
       "$$ Y_{1} = 1 $$"
      ],
      "text/plain": [
       "binary3 : Y[1] = 1"
      ]
     },
     "metadata": {},
     "output_type": "display_data"
    }
   ],
   "source": [
    "I = 1:3\n",
    "J = 1:3\n",
    "\n",
    "waste_model = Model(HiGHS.Optimizer);\n",
    "\n",
    "\n",
    "# @variable(waste_model, W[1:3, 1:3] >= 0) # non-negativity constraints for 9 variables\n",
    "# @variable(waste_model, R[1:3, 1:3] >= 0) # R21, R23, R31\n",
    "# @variable(waste_model, Y[1:3], Bin) # operational status\n",
    "\n",
    "@variable(waste_model, W[i in I, j in J] >= 0) # non-negativity constraints for 9 variables\n",
    "@variable(waste_model, R[i in I, j in J] >= 0) # R21, R23, R31\n",
    "@variable(waste_model, Y[j in J], Bin) # operational status\n",
    "\n",
    "\n",
    "@objective(waste_model, Min, (sum(W[c,f]*Ctip[c] + W[c,f]*Cr[c] + W[c,f]*Dw[c,f] + R[c,f]*Dr[c,f] for c in I, f in J)) + sum(Y[j]*Cf[j] for j in J))\n",
    "\n",
    "#@objective(waste_model, Min, sum(Y[j]*Cf[j] + sum(W[i,j] * (Ctip[j] + Ct*Dw[i,j]) for i in I) + sum(R[k,j] * (Ctip[j] + Ct*Dr[k,j]) for k in J) for j in J) + sum(MRF_recycle*Cr*W[i,2] for i in I))\n",
    "\n",
    "\n",
    "@constraint(waste_model, city_1, (sum(W[1,j] for j in J)) == 100)\n",
    "@constraint(waste_model, city_2, (sum(W[2,j] for j in J)) == 90)\n",
    "@constraint(waste_model, city_3, (sum(W[2,j] for j in J)) == 120)\n",
    "\n",
    "@constraint(waste_model, LF_tot,  (sum(W[i,1] for i in I)) <= max[1])\n",
    "@constraint(waste_model, MRF_tot, (sum(W[i,2] for i in I)) <= max[2])\n",
    "@constraint(waste_model, WTE_tot, (sum(W[i,3] for i in I)) <= max[3])\n",
    "\n",
    "@constraint(waste_model, Refuse, (sum(W[i,3] for i in I))*0.6 == R[2,1] + R[2,3])\n",
    "@constraint(waste_model, Secondary_refuse, (sum(W[i,3] for i in I))*1.6 + R[2,3]*1.4 == R[3,1])\n",
    "\n",
    "# @constraint(waste_model, binary_off, (sum(W[3,j] for j=1:3)) <= max[3])\n",
    "# @constraint(waste_model, binary_on,  (sum(W[3,j] for j=1:3)) <= max[3])\n",
    "# did not change yet\n",
    "@constraint(waste_model, binary1, !Y[3] => {W[1,1] + W[2,1] + W[3,1] + R[2,1] + R[3,1] == 0})\n",
    "@constraint(waste_model, binary2, !Y[2] => {W[1,2] + W[2,2] + W[3,2] == 0})\n",
    "@constraint(waste_model, binary3, Y[1] == 1)\n",
    "\n",
    "#  {W[3,1] + W[3,2] + W[3,3] +  == 0}\n",
    "\n",
    "\n"
   ]
  },
  {
   "cell_type": "code",
   "execution_count": 21,
   "id": "460a3321",
   "metadata": {},
   "outputs": [
    {
     "name": "stdout",
     "output_type": "stream",
     "text": [
      "Running HiGHS 1.8.1 (git hash: 4a7f24ac6): Copyright (c) 2024 HiGHS under MIT licence terms\n"
     ]
    },
    {
     "ename": "ErrorException",
     "evalue": "Unable to use IndicatorToMILPBridge because element 2 in the function has a non-finite domain: 0.0 + 1.0 MOI.VariableIndex(1) + 1.0 MOI.VariableIndex(2) + 1.0 MOI.VariableIndex(3) + 1.0 MOI.VariableIndex(11) + 1.0 MOI.VariableIndex(12)",
     "output_type": "error",
     "traceback": [
      "Unable to use IndicatorToMILPBridge because element 2 in the function has a non-finite domain: 0.0 + 1.0 MOI.VariableIndex(1) + 1.0 MOI.VariableIndex(2) + 1.0 MOI.VariableIndex(3) + 1.0 MOI.VariableIndex(11) + 1.0 MOI.VariableIndex(12)\n",
      "\n",
      "Stacktrace:\n",
      "  [1] error(s::String)\n",
      "    @ Base ./error.jl:35\n",
      "  [2] final_touch(bridge::MathOptInterface.Bridges.Constraint.IndicatorToMILPBridge{Float64, MathOptInterface.VectorAffineFunction{Float64}, MathOptInterface.ACTIVATE_ON_ZERO, MathOptInterface.EqualTo{Float64}}, model::MathOptInterface.Bridges.LazyBridgeOptimizer{HiGHS.Optimizer})\n",
      "    @ MathOptInterface.Bridges.Constraint ~/.julia/packages/MathOptInterface/gLl4d/src/Bridges/Constraint/bridges/indicator_to_milp.jl:200\n",
      "  [3] _final_touch(bridges::OrderedCollections.OrderedSet{MathOptInterface.Bridges.Constraint.IndicatorToMILPBridge{Float64, MathOptInterface.VectorAffineFunction{Float64}, MathOptInterface.ACTIVATE_ON_ZERO, MathOptInterface.EqualTo{Float64}}}, model::MathOptInterface.Bridges.LazyBridgeOptimizer{HiGHS.Optimizer})\n",
      "    @ MathOptInterface.Bridges.Constraint ~/.julia/packages/MathOptInterface/gLl4d/src/Bridges/Constraint/map.jl:340\n",
      "  [4] final_touch(map::MathOptInterface.Bridges.Constraint.Map, model::MathOptInterface.Bridges.LazyBridgeOptimizer{HiGHS.Optimizer})\n",
      "    @ MathOptInterface.Bridges.Constraint ~/.julia/packages/MathOptInterface/gLl4d/src/Bridges/Constraint/map.jl:347\n",
      "  [5] final_touch\n",
      "    @ ~/.julia/packages/MathOptInterface/gLl4d/src/Bridges/bridge_optimizer.jl:450 [inlined]\n",
      "  [6] final_touch\n",
      "    @ ~/.julia/packages/MathOptInterface/gLl4d/src/Bridges/bridge_optimizer.jl:455 [inlined]\n",
      "  [7] default_copy_to(dest::MathOptInterface.Bridges.LazyBridgeOptimizer{HiGHS.Optimizer}, src::MathOptInterface.Utilities.UniversalFallback{MathOptInterface.Utilities.Model{Float64}})\n",
      "    @ MathOptInterface.Utilities ~/.julia/packages/MathOptInterface/gLl4d/src/Utilities/copy.jl:394\n",
      "  [8] copy_to\n",
      "    @ ~/.julia/packages/MathOptInterface/gLl4d/src/Bridges/bridge_optimizer.jl:442 [inlined]\n",
      "  [9] optimize!\n",
      "    @ ~/.julia/packages/MathOptInterface/gLl4d/src/MathOptInterface.jl:121 [inlined]\n",
      " [10] optimize!(m::MathOptInterface.Utilities.CachingOptimizer{MathOptInterface.Bridges.LazyBridgeOptimizer{HiGHS.Optimizer}, MathOptInterface.Utilities.UniversalFallback{MathOptInterface.Utilities.Model{Float64}}})\n",
      "    @ MathOptInterface.Utilities ~/.julia/packages/MathOptInterface/gLl4d/src/Utilities/cachingoptimizer.jl:321\n",
      " [11] optimize!(model::Model; ignore_optimize_hook::Bool, _differentiation_backend::MathOptInterface.Nonlinear.SparseReverseMode, kwargs::@Kwargs{})\n",
      "    @ JuMP ~/.julia/packages/JuMP/FEKLB/src/optimizer_interface.jl:595\n",
      " [12] optimize!(model::Model)\n",
      "    @ JuMP ~/.julia/packages/JuMP/FEKLB/src/optimizer_interface.jl:546\n",
      " [13] top-level scope\n",
      "    @ ~/BEE 4750/hw5-ismabay/jl_notebook_cell_df34fa98e69747e1a8f8a730347b8e2f_X14sZmlsZQ==.jl:1"
     ]
    }
   ],
   "source": [
    "optimize!(waste_model)\n"
   ]
  },
  {
   "cell_type": "markdown",
   "id": "b6d659ee-115e-43c3-81d4-56c4aaf92fb7",
   "metadata": {},
   "source": [
    "## References\n",
    "\n",
    "List any external references consulted, including classmates."
   ]
  }
 ],
 "metadata": {
  "kernel_info": {
   "name": "julia"
  },
  "kernelspec": {
   "display_name": "Julia 1.10.4",
   "language": "julia",
   "name": "julia-1.10"
  },
  "language_info": {
   "file_extension": ".jl",
   "mimetype": "application/julia",
   "name": "julia",
   "version": "1.10.4"
  }
 },
 "nbformat": 4,
 "nbformat_minor": 5
}
